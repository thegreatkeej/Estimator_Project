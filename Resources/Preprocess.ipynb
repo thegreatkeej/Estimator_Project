{
 "cells": [
  {
   "cell_type": "markdown",
   "id": "531fabda",
   "metadata": {},
   "source": [
    "THIS SCRIPT PREPROCESSES THE CONSOLIDATED DATA COLLECTED AND CREATES SEPERATE TABLES FOR ANALYSIS"
   ]
  },
  {
   "cell_type": "code",
   "execution_count": 13,
   "id": "0b4650c5",
   "metadata": {},
   "outputs": [],
   "source": [
    "# Dependencies\n",
    "from config import homeDepot_API\n",
    "from serpapi import GoogleSearch\n",
    "import pandas as pd\n",
    "import numpy as np\n",
    "from openpyxl import load_workbook"
   ]
  },
  {
   "cell_type": "markdown",
   "id": "73773e51",
   "metadata": {},
   "source": [
    "STEP 1: PREPROCESS DATA"
   ]
  },
  {
   "cell_type": "code",
   "execution_count": 14,
   "id": "761d8fe5",
   "metadata": {},
   "outputs": [
    {
     "name": "stdout",
     "output_type": "stream",
     "text": [
      "(1250, 6) material_description     object\n",
      "material_price          float64\n",
      "vendor                   object\n",
      "location                 object\n",
      "formatted_datetime       object\n",
      "dow                      object\n",
      "dtype: object\n"
     ]
    }
   ],
   "source": [
    "# Collect all data\n",
    "\n",
    "path0 = \"C:\\\\Users\\\\kijah\\\\Documents\\\\Data_Bootcamp\\\\Estimator_Project\\\\HistoricalPrices.csv\"\n",
    "raw_prices = pd.read_csv(path0)\n",
    "\n",
    "path = \"C:\\\\Users\\\\kijah\\\\Documents\\\\Data_Bootcamp\\\\Estimator_Project\\\\data.csv\"\n",
    "data = pd.read_csv(path)\n",
    "\n",
    "print(data.shape, data.dtypes)"
   ]
  },
  {
   "cell_type": "code",
   "execution_count": 15,
   "id": "fca32da3",
   "metadata": {},
   "outputs": [],
   "source": [
    "# Create Regional columns\n",
    "\n",
    "# Split location column to create a zip code column\n",
    "\n",
    "data['zip'] = (np.where(data['location'].str.contains(','), data['location'].str.split(',').str[-1], data['location']))\n",
    "data['zip'] = data['zip'].str.strip()\n",
    "data['zip'] = (np.where(data['zip'].str.len()>5, \"other\", data['zip']))\n",
    "\n",
    "region = []\n",
    "for i in data['zip']:\n",
    "    if i.startswith(\"0\"):\n",
    "        region.append('northeast')\n",
    "    elif i.startswith(\"1\"):\n",
    "        region.append('northeast')\n",
    "    elif i.startswith(\"2\"):\n",
    "        region.append('east')\n",
    "    elif i.startswith(\"3\"):\n",
    "        region.append('southeast')\n",
    "    elif i.startswith(\"4\"):\n",
    "        region.append('midwest')\n",
    "    elif i.startswith(\"5\"):\n",
    "        region.append('northplaines')\n",
    "    elif i.startswith(\"6\"):\n",
    "        region.append('central')\n",
    "    elif i.startswith(\"7\"):\n",
    "        region.append('south')\n",
    "    elif i.startswith(\"8\"):\n",
    "        region.append('mountains')\n",
    "    elif i.startswith(\"9\"):\n",
    "        region.append('west')\n",
    "    else:\n",
    "        region.append('other')\n",
    "        \n",
    "        \n",
    "data['region'] = region\n",
    "data.formatted_datetime = pd.to_datetime(data.formatted_datetime)\n",
    "data['date'] = data.formatted_datetime.dt.date\n",
    "data.date = pd.to_datetime(data.date)\n",
    "data.drop(columns =['formatted_datetime'], inplace = True)"
   ]
  },
  {
   "cell_type": "code",
   "execution_count": 16,
   "id": "2a2d436e",
   "metadata": {},
   "outputs": [],
   "source": [
    "raw = []\n",
    "for i in data['material_description']:\n",
    "    if i.startswith(\"1\") or i.startswith(\"3\"):\n",
    "        raw.append('steel')    \n",
    "    else:\n",
    "        raw.append('copper')\n",
    "        \n",
    "        \n",
    "data['raw_material'] = raw"
   ]
  },
  {
   "cell_type": "code",
   "execution_count": 17,
   "id": "659fa0a2",
   "metadata": {
    "scrolled": true
   },
   "outputs": [
    {
     "data": {
      "text/plain": [
       "material_description            object\n",
       "material_price                 float64\n",
       "vendor                          object\n",
       "location                        object\n",
       "dow                             object\n",
       "zip                             object\n",
       "region                          object\n",
       "date                    datetime64[ns]\n",
       "raw_material                    object\n",
       "dtype: object"
      ]
     },
     "execution_count": 17,
     "metadata": {},
     "output_type": "execute_result"
    }
   ],
   "source": [
    "data.dtypes"
   ]
  },
  {
   "cell_type": "code",
   "execution_count": 18,
   "id": "b9b8414a",
   "metadata": {
    "scrolled": true
   },
   "outputs": [
    {
     "data": {
      "text/plain": [
       "(1161, 11)"
      ]
     },
     "execution_count": 18,
     "metadata": {},
     "output_type": "execute_result"
    }
   ],
   "source": [
    "# Create raw prices features (NOTE: SOME HOW, I LOSE 100 PLUS ROWS OF DATA??)\n",
    "\n",
    "raw_prices.date = pd.to_datetime(raw_prices.date)\n",
    "raw_prices = raw_prices.iloc[:,[0,1,2]]\n",
    "data = pd.merge(data, raw_prices)\n",
    "data.shape"
   ]
  },
  {
   "cell_type": "code",
   "execution_count": null,
   "id": "618ada1f",
   "metadata": {
    "scrolled": false
   },
   "outputs": [
    {
     "name": "stdout",
     "output_type": "stream",
     "text": [
      "https://serpapi.com/search\n",
      "https://serpapi.com/search\n",
      "https://serpapi.com/search\n",
      "https://serpapi.com/search\n",
      "https://serpapi.com/search\n",
      "https://serpapi.com/search\n",
      "https://serpapi.com/search\n",
      "https://serpapi.com/search\n",
      "https://serpapi.com/search\n",
      "https://serpapi.com/search\n",
      "https://serpapi.com/search\n"
     ]
    }
   ],
   "source": [
    "# Creating 'material_description' by extracting from Home Depot. Home Depot's product id is what is used to query\n",
    "\n",
    "material_name = []\n",
    "\n",
    "ids = ['100400409', '100400406', '100137321', '100400405', \n",
    "       '202241090', '100144234', '202077145', '202077147', \n",
    "       '202288508', '202304774', '202304649', '202304645', \n",
    "       '202019377', '202316275', '202019375', '202316276']\n",
    "\n",
    "for i in ids:\n",
    "\n",
    "    params = {\n",
    "      \"engine\": \"home_depot_product\",\n",
    "      \"product_id\": i,\n",
    "      \"api_key\": homeDepot_API\n",
    "    }\n",
    "\n",
    "    search = GoogleSearch(params)\n",
    "    results = search.get_dict()\n",
    "    products = results['product_results']\n",
    "    \n",
    "    material_name.append(products['title'])\n",
    "        \n",
    "material_description = pd.DataFrame(data={'material_description': material_name}).iloc[[3,1,0,5,8,4,2,6,7,12,13,14,15,9,10,11],:].reset_index(drop=True)\n"
   ]
  },
  {
   "cell_type": "code",
   "execution_count": null,
   "id": "1dbfc78b",
   "metadata": {
    "scrolled": true
   },
   "outputs": [],
   "source": [
    "R = material_description['material_description']\n",
    "R_list=R.tolist()\n",
    "target_list = [[]]\n",
    "for r in R_list:\n",
    "    int_df = data.loc[data['material_description']==r] [['material_price']]\n",
    "    Q1 = np.quantile(int_df, 0.25)\n",
    "    Q3 = np.quantile(int_df, 0.75)\n",
    "    data.loc[data['material_description']==r, 'target_price'] = np.where(int_df['material_price'] >= Q3, 'high price', (np.where(int_df['material_price'] <= Q1, 'low price', 'about average')))\n",
    "\n",
    "data.head()"
   ]
  },
  {
   "cell_type": "code",
   "execution_count": null,
   "id": "294b4d2c",
   "metadata": {
    "scrolled": true
   },
   "outputs": [],
   "source": [
    "descriptive_table = data.groupby('material_description').describe()['material_price'].transpose()\n",
    "descriptive_table = descriptive_table.iloc[:,[5,12,2,3,11,0,4,10,1,8,9,6,7,14,15,13]]\n",
    "descriptive_table.columns=mat_name = ['emt12','emt34','emt1','cup12','cup34','cup1','con12','con34','con1','rom142','rom143','rom122','rom123','wir4','wir6','wir10']\n",
    "descriptive_table"
   ]
  },
  {
   "cell_type": "code",
   "execution_count": null,
   "id": "e88145e8",
   "metadata": {},
   "outputs": [],
   "source": [
    "# Creating a dataframe for each material item\n",
    "new_df = []\n",
    "for r in R:\n",
    "    df = data[data['material_description']==r].reset_index(drop=True)    \n",
    "    new_df.append(df)\n",
    "test = pd.concat(new_df, axis=0, ignore_index=True)"
   ]
  },
  {
   "cell_type": "code",
   "execution_count": null,
   "id": "df3f55f5",
   "metadata": {},
   "outputs": [],
   "source": [
    "preprocessed_df = data\n",
    "preprocessed_df.shape"
   ]
  },
  {
   "cell_type": "code",
   "execution_count": null,
   "id": "7341d79a",
   "metadata": {},
   "outputs": [],
   "source": [
    "# Send CSVs to my computer\n",
    "\n",
    "preprocessed = \"C:\\\\Users\\\\kijah\\\\Documents\\\\Data_Bootcamp\\\\Estimator_Project\\\\PreprocessedDataFrames\\\\preprocessed_df.csv\"\n",
    "preprocessed_df.to_csv(preprocessed, index=False)\n",
    "\n",
    "descriptive = \"C:\\\\Users\\\\kijah\\\\Documents\\\\Data_Bootcamp\\\\Estimator_Project\\\\PreprocessedDataFrames\\\\descriptive_table.csv\"\n",
    "descriptive_table.to_csv(descriptive, index=False)\n",
    "\n",
    "emt12_df = \"C:\\\\Users\\\\kijah\\\\Documents\\\\Data_Bootcamp\\\\Estimator_Project\\\\PreprocessedDataFrames\\\\emt12.csv\"\n",
    "new_df[0].to_csv(emt12_df, index=False)\n",
    "\n",
    "emt34_df = \"C:\\\\Users\\\\kijah\\\\Documents\\\\Data_Bootcamp\\\\Estimator_Project\\\\PreprocessedDataFrames\\\\emt34.csv\"\n",
    "new_df[1].to_csv(emt34_df, index=False)\n",
    "\n",
    "emt1_df = \"C:\\\\Users\\\\kijah\\\\Documents\\\\Data_Bootcamp\\\\Estimator_Project\\\\PreprocessedDataFrames\\\\emt1.csv\"\n",
    "new_df[2].to_csv(emt1_df, index=False)\n",
    "\n",
    "cup12_df = \"C:\\\\Users\\\\kijah\\\\Documents\\\\Data_Bootcamp\\\\Estimator_Project\\\\PreprocessedDataFrames\\\\cup12.csv\"\n",
    "new_df[3].to_csv(cup12_df, index=False)\n",
    "\n",
    "cup34_df = \"C:\\\\Users\\\\kijah\\\\Documents\\\\Data_Bootcamp\\\\Estimator_Project\\\\PreprocessedDataFrames\\\\cup34.csv\"\n",
    "new_df[4].to_csv(cup34_df, index=False)\n",
    "\n",
    "cup1_df = \"C:\\\\Users\\\\kijah\\\\Documents\\\\Data_Bootcamp\\\\Estimator_Project\\\\PreprocessedDataFrames\\\\cup1.csv\"\n",
    "new_df[5].to_csv(cup1_df, index=False)\n",
    "\n",
    "con12_df = \"C:\\\\Users\\\\kijah\\\\Documents\\\\Data_Bootcamp\\\\Estimator_Project\\\\PreprocessedDataFrames\\\\con12.csv\"\n",
    "new_df[6].to_csv(con12_df, index=False)\n",
    "\n",
    "con34_df = \"C:\\\\Users\\\\kijah\\\\Documents\\\\Data_Bootcamp\\\\Estimator_Project\\\\PreprocessedDataFrames\\\\con34.csv\"\n",
    "new_df[7].to_csv(con34_df, index=False)\n",
    "\n",
    "con1_df = \"C:\\\\Users\\\\kijah\\\\Documents\\\\Data_Bootcamp\\\\Estimator_Project\\\\PreprocessedDataFrames\\\\con1.csv\"\n",
    "new_df[8].to_csv(con1_df, index=False)\n",
    "\n",
    "rom142_df = \"C:\\\\Users\\\\kijah\\\\Documents\\\\Data_Bootcamp\\\\Estimator_Project\\\\PreprocessedDataFrames\\\\rom142.csv\"\n",
    "new_df[9].to_csv(rom142_df, index=False)\n",
    "\n",
    "rom143_df = \"C:\\\\Users\\\\kijah\\\\Documents\\\\Data_Bootcamp\\\\Estimator_Project\\\\PreprocessedDataFrames\\\\rom143.csv\"\n",
    "new_df[10].to_csv(rom143_df, index=False)\n",
    "\n",
    "rom122_df = \"C:\\\\Users\\\\kijah\\\\Documents\\\\Data_Bootcamp\\\\Estimator_Project\\\\PreprocessedDataFrames\\\\rom122.csv\"\n",
    "new_df[11].to_csv(rom122_df, index=False)\n",
    "\n",
    "rom123_df = \"C:\\\\Users\\\\kijah\\\\Documents\\\\Data_Bootcamp\\\\Estimator_Project\\\\PreprocessedDataFrames\\\\rom123.csv\"\n",
    "new_df[12].to_csv(rom123_df, index=False)\n",
    "\n",
    "wir4_df = \"C:\\\\Users\\\\kijah\\\\Documents\\\\Data_Bootcamp\\\\Estimator_Project\\\\PreprocessedDataFrames\\\\wir4.csv\"\n",
    "new_df[13].to_csv(wir4_df, index=False)\n",
    "\n",
    "wir6_df = \"C:\\\\Users\\\\kijah\\\\Documents\\\\Data_Bootcamp\\\\Estimator_Project\\\\PreprocessedDataFrames\\\\wir6.csv\"\n",
    "new_df[14].to_csv(wir6_df, index=False)\n",
    "\n",
    "wir10_df = \"C:\\\\Users\\\\kijah\\\\Documents\\\\Data_Bootcamp\\\\Estimator_Project\\\\PreprocessedDataFrames\\\\wir10.csv\"\n",
    "new_df[15].to_csv(wir10_df, index=False)"
   ]
  }
 ],
 "metadata": {
  "kernelspec": {
   "display_name": "Python 3 (ipykernel)",
   "language": "python",
   "name": "python3"
  },
  "language_info": {
   "codemirror_mode": {
    "name": "ipython",
    "version": 3
   },
   "file_extension": ".py",
   "mimetype": "text/x-python",
   "name": "python",
   "nbconvert_exporter": "python",
   "pygments_lexer": "ipython3",
   "version": "3.7.13"
  },
  "toc-autonumbering": true,
  "toc-showmarkdowntxt": true
 },
 "nbformat": 4,
 "nbformat_minor": 5
}
