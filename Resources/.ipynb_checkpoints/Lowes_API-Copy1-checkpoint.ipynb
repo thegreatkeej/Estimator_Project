{
 "cells": [
  {
   "cell_type": "code",
   "execution_count": 35,
   "id": "b98a78f5",
   "metadata": {},
   "outputs": [],
   "source": [
    "# querrys = ['1/2 in. x 10 ft. Electric Metallic Tube (EMT) Conduit', '3/4 in. x 10 ft. Electric Metallic Tube (EMT) Conduit',\n",
    "#           '1 in. x 10 ft. Electric Metallic Tube (EMT) Conduit', '1/2 in. emt set-screw connectors (5-pack)', \n",
    "#           '3/4 in. emt set-screw connectors (5-pack)', '1 in. emt set-screw connectors',\n",
    "#           '1/2 in. emt set-screw coupling (5-pack)', '3/4 in. emt set-screw coupling (5-pack)',\n",
    "#           '1 in. emt set-screw coupling', '500 ft. #4 black stranded cu simpull thhn wire',\n",
    "#           '500 ft. #6 black stranded cu simpull thhn wire', '500 ft. #10 black stranded cu simpull thhn wire',\n",
    "#           '250 ft. 14/2 romex', '250 ft. 14/3 romex', '250 ft. 12/2 romex', '250 ft. 12/3 romex',]"
   ]
  },
  {
   "cell_type": "code",
   "execution_count": 36,
   "id": "64ede7a1",
   "metadata": {},
   "outputs": [
    {
     "data": {
      "text/plain": [
       "'C:\\\\Users\\\\kijah\\\\Documents\\\\Data_Bootcamp\\\\Estimator_Project\\\\Resources'"
      ]
     },
     "execution_count": 36,
     "metadata": {},
     "output_type": "execute_result"
    }
   ],
   "source": [
    "from config import homeDepot_API\n",
    "from serpapi import GoogleSearch\n",
    "import pandas as pd\n",
    "import os\n",
    "os.getcwd()\n"
   ]
  },
  {
   "cell_type": "code",
   "execution_count": 37,
   "id": "9a6be728",
   "metadata": {},
   "outputs": [
    {
     "name": "stdout",
     "output_type": "stream",
     "text": [
      "https://serpapi.com/search\n",
      "https://serpapi.com/search\n",
      "https://serpapi.com/search\n",
      "https://serpapi.com/search\n",
      "https://serpapi.com/search\n",
      "https://serpapi.com/search\n",
      "https://serpapi.com/search\n",
      "https://serpapi.com/search\n",
      "https://serpapi.com/search\n",
      "https://serpapi.com/search\n",
      "https://serpapi.com/search\n",
      "https://serpapi.com/search\n",
      "https://serpapi.com/search\n",
      "https://serpapi.com/search\n",
      "https://serpapi.com/search\n",
      "https://serpapi.com/search\n"
     ]
    }
   ],
   "source": [
    "items = []\n",
    "\n",
    "ids = ['100400409', '100400406', '100137321', '100400405', \n",
    "       '202241090', '100144234', '202077145', '202077147', \n",
    "       '202288508', '202304774', '202304649', '202304645', \n",
    "       '202019377', '202316275', '202019375', '202316276']\n",
    "\n",
    "for i in ids:\n",
    "\n",
    "    params = {\n",
    "      \"engine\": \"home_depot_product\",\n",
    "      \"product_id\": i,\n",
    "      \"api_key\": homeDepot_API\n",
    "    }\n",
    "\n",
    "    search = GoogleSearch(params)\n",
    "    results = search.get_dict()\n",
    "    products = results['product_results']\n",
    "    \n",
    "    items.append(products['title'])"
   ]
  },
  {
   "cell_type": "code",
   "execution_count": 38,
   "id": "3559eae4",
   "metadata": {},
   "outputs": [],
   "source": [
    "links = []\n",
    "prices = []\n",
    "vendors = []"
   ]
  },
  {
   "cell_type": "code",
   "execution_count": 39,
   "id": "b4a74ebd",
   "metadata": {},
   "outputs": [
    {
     "name": "stdout",
     "output_type": "stream",
     "text": [
      "https://serpapi.com/search\n"
     ]
    }
   ],
   "source": [
    "\n",
    "params = {\n",
    "  \"engine\": \"google\",\n",
    "  \"q\": '1/2 in. x 10 ft. Electric Metallic Tube (EMT) Conduit',\n",
    "  \"api_key\": homeDepot_API\n",
    "}\n",
    "\n",
    "search = GoogleSearch(params)\n",
    "results = search.get_dict()\n",
    "Search_0 = results[\"organic_results\"]\n"
   ]
  },
  {
   "cell_type": "code",
   "execution_count": 40,
   "id": "b7cb4ea1",
   "metadata": {},
   "outputs": [
    {
     "name": "stdout",
     "output_type": "stream",
     "text": [
      "1/2 in. x 10 ft. Electric Metallic Tube (EMT) Conduit 853428\n",
      "https://www.homedepot.com/p/1-2-in-x-10-ft-Electric-Metallic-Tube-EMT-Conduit-853428/100400405\n",
      "7.22\n",
      "-------------------------------------------\n",
      "1/2-in x 10-ft Metal Emt Conduit - Lowe's\n",
      "https://www.lowes.com/pd/Common-1-2-in-Actual-50-In-Metallic-Emt-10-ft-Conduit/3129551\n",
      "7.68\n",
      "-------------------------------------------\n",
      "ALLIED 898302 EMT CONDUIT 1/2\" EMT CONDUIT X 10\n",
      "https://www.gordonelectricsupply.com/p/Allied-898302-Emt-Conduit-1-2-Emt-Conduit-X-10/1608\n",
      "4.73\n",
      "-------------------------------------------\n",
      "1/2 In. X 10 Ft. Electric Metallic Tube (Emt) Conduit\n",
      "https://www.supplyworks.com/Sku/2487615/12-in-x-10-ft-electric-metallic-tube-emt-conduit-091111020018-853428\n",
      "5.88\n",
      "-------------------------------------------\n",
      "EMT Electrical Metallic Tubing 1/2 in Conduit 10 ft\n",
      "https://www.steinerelectric.com/Product/EMT-Electrical-Metallic-Tubing-1-2-in-Conduit-10-ft-39288\n",
      "NaN\n",
      "12E :: EMT Conduit, 1/2\", Steel, 10 - Platt Electric Supply\n",
      "https://www.platt.com/p/0065867/emt-conduit-1-2-steel-10/091111020018/12e\n",
      "0.76\n",
      "-------------------------------------------\n"
     ]
    }
   ],
   "source": [
    "for p in Search_0[0:6]:\n",
    "    try:\n",
    "        print(p['title'])\n",
    "        print(p['link'])\n",
    "        links.append(p['link'])\n",
    "        print(p['rich_snippet']['top']['detected_extensions']['price'])\n",
    "        prices.append(p['rich_snippet']['top']['detected_extensions']['price'])\n",
    "        vendors.append(p['rich_snippet']['top']['detected_extensions']['price'])\n",
    "        print('-------------------------------------------')\n",
    "    except (KeyError):\n",
    "        print ('NaN')"
   ]
  },
  {
   "cell_type": "code",
   "execution_count": 41,
   "id": "9c9aa14c",
   "metadata": {},
   "outputs": [
    {
     "data": {
      "text/plain": [
       "['1 in. x 10 ft. Electric Metallic Tube (EMT) Conduit',\n",
       " '3/4 in. x 10 ft. Electric Metallic Tube (EMT) Conduit',\n",
       " '1/2 in. Electrical Metallic Tube (EMT) Set-Screw Connectors (5-Pack)',\n",
       " '1/2 in. x 10 ft. Electric Metallic Tube (EMT) Conduit',\n",
       " '1 in. Electric Metallic Tube (EMT) Set-Screw Coupling',\n",
       " '1/2 in. Electric Metallic Tube (EMT) Set-Screw Coupling (5-Pack)',\n",
       " '3/4 in. Electrical Metallic Tube (EMT) Set-Screw Connector (5-Pack)',\n",
       " '1 in. Electrical Metallic Tube (EMT) Set-Screw Connector',\n",
       " '3/4 in. Standard Fitting Electric Metallic Tube (EMT) Set-Screw Coupling (5-Pack)',\n",
       " '500 ft. 4 Gauge Black Stranded Copper THHN Wire',\n",
       " '500 ft. 6 Gauge Black Stranded Copper THHN Wire',\n",
       " '500 ft. 10 Gauge Black Stranded Copper THHN Wire',\n",
       " '250 ft. 14/2 Romex SIMpull Solid NM-B W/G Wire',\n",
       " '250 ft. 14/3 Solid Romex SIMpull CU NM-B W/G Wire',\n",
       " '250 ft. 12/2 Solid Romex SIMpull CU NM-B W/G Wire',\n",
       " '250 ft. 12/3 Solid Romex SIMpull CU NM-B W/G Wire']"
      ]
     },
     "execution_count": 41,
     "metadata": {},
     "output_type": "execute_result"
    }
   ],
   "source": [
    "items"
   ]
  },
  {
   "cell_type": "code",
   "execution_count": 44,
   "id": "65394fb1",
   "metadata": {},
   "outputs": [
    {
     "name": "stdout",
     "output_type": "stream",
     "text": [
      "https://serpapi.com/search\n",
      "3/4 in. x 10 ft. Electric Metallic Tube (EMT) Conduit 853429\n",
      "https://www.homedepot.com/p/3-4-in-x-10-ft-Electric-Metallic-Tube-EMT-Conduit-853429/100400406\n",
      "11.91\n",
      "-------------------------------------------\n",
      "3/4-in x 10-ft Metal Emt Conduit - Lowe's\n",
      "https://www.lowes.com/pd/Common-3-4-in-Actual-75-In-Metallic-Emt-10-ft-Conduit/3129553\n",
      "12.68\n",
      "-------------------------------------------\n",
      "3/4 In. X 10 Ft. Electric Metallic Tube (Emt) Conduit\n",
      "https://www.ebarnett.com/Sku/2487616/34-in-x-10-ft-electric-metallic-tube-emt-conduit-091111020025-853429\n",
      "10.47\n",
      "-------------------------------------------\n",
      "3/4\" x 10 Ft EMT Conduit Color Silver, Galvanized Steel ...\n",
      "https://www.mecampbell.com/3-4-x-10-ft-emt-conduit-color-silver-galvanized-steel-electrical-metallic-tubing.html\n",
      "132\n",
      "-------------------------------------------\n",
      "ALLIED 898303 EMT CONDUIT 3/4\" EMT CONDUIT X 10\n",
      "https://www.gordonelectricsupply.com/p/Allied-898303-Emt-Conduit-3-4-Emt-Conduit-X-10/1673\n",
      "8.36\n",
      "-------------------------------------------\n",
      "34E :: EMT Conduit, 3/4\", Steel, 10 - Platt Electric Supply\n",
      "https://www.platt.com/p/0065970/emt-conduit-3-4-steel-10/091111020025/34e\n",
      "1.37\n",
      "-------------------------------------------\n"
     ]
    }
   ],
   "source": [
    "# Search_1\n",
    "\n",
    "params = {\n",
    "  \"engine\": \"google\",\n",
    "  \"q\": '3/4 in. x 10 ft. Electric Metallic Tube (EMT) Conduit',\n",
    "  \"api_key\": homeDepot_API\n",
    "}\n",
    "\n",
    "search = GoogleSearch(params)\n",
    "results = search.get_dict()\n",
    "Search_1 = results[\"organic_results\"]\n",
    "\n",
    "for p in Search_1[0:6]:\n",
    "    try:\n",
    "        print(p['title'])\n",
    "        print(p['link'])\n",
    "        links.append(p['link'])\n",
    "        print(p['rich_snippet']['top']['detected_extensions']['price'])\n",
    "        prices.append(p['rich_snippet']['top']['detected_extensions']['price'])\n",
    "        vendors.append(p['rich_snippet']['top']['detected_extensions']['price'])\n",
    "        print('-------------------------------------------')\n",
    "    except (KeyError):\n",
    "        print ('NaN')"
   ]
  },
  {
   "cell_type": "code",
   "execution_count": 51,
   "id": "cc1665d2",
   "metadata": {},
   "outputs": [
    {
     "name": "stdout",
     "output_type": "stream",
     "text": [
      "https://serpapi.com/search\n"
     ]
    }
   ],
   "source": [
    "def searcher(querrys, products):\n",
    "\n",
    "    params = {\n",
    "      \"engine\": \"google\",\n",
    "  \"q\": querrys,\n",
    "  \"api_key\": homeDepot_API\n",
    "}\n",
    "\n",
    "search = GoogleSearch(params)\n",
    "results = search.get_dict()\n",
    "products = results[\"organic_results\"]\n",
    "\n",
    "for p in products[0:3]:\n",
    "    try:\n",
    "#         print(p['title'])\n",
    "#         print(p['link'])\n",
    "        links.append(p['link'])\n",
    "#         print(p['rich_snippet']['top']['detected_extensions']['price'])\n",
    "        prices.append(p['rich_snippet']['top']['detected_extensions']['price'])\n",
    "        vendors.append(p['rich_snippet']['top']['detected_extensions']['price'])\n",
    "#         print('-------------------------------------------')\n",
    "    except (KeyError):\n",
    "        print ('NaN')"
   ]
  },
  {
   "cell_type": "code",
   "execution_count": 52,
   "id": "0c6d9eed",
   "metadata": {},
   "outputs": [
    {
     "ename": "NameError",
     "evalue": "name 'Search_2' is not defined",
     "output_type": "error",
     "traceback": [
      "\u001b[1;31m---------------------------------------------------------------------------\u001b[0m",
      "\u001b[1;31mNameError\u001b[0m                                 Traceback (most recent call last)",
      "\u001b[1;32m~\\AppData\\Local\\Temp\\ipykernel_3816\\1216303609.py\u001b[0m in \u001b[0;36m<module>\u001b[1;34m\u001b[0m\n\u001b[0;32m      8\u001b[0m \u001b[1;31m#           '250 ft. 14/2 romex', '250 ft. 14/3 romex', '250 ft. 12/2 romex', '250 ft. 12/3 romex',]\u001b[0m\u001b[1;33m\u001b[0m\u001b[1;33m\u001b[0m\u001b[1;33m\u001b[0m\u001b[0m\n\u001b[0;32m      9\u001b[0m \u001b[1;33m\u001b[0m\u001b[0m\n\u001b[1;32m---> 10\u001b[1;33m \u001b[0mSearches\u001b[0m \u001b[1;33m=\u001b[0m \u001b[1;33m[\u001b[0m\u001b[0mSearch_0\u001b[0m\u001b[1;33m,\u001b[0m \u001b[0mSearch_1\u001b[0m\u001b[1;33m,\u001b[0m \u001b[0mSearch_2\u001b[0m\u001b[1;33m,\u001b[0m \u001b[0mSearch_3\u001b[0m\u001b[1;33m,\u001b[0m \u001b[0mSearch_4\u001b[0m\u001b[1;33m]\u001b[0m\u001b[1;33m\u001b[0m\u001b[1;33m\u001b[0m\u001b[0m\n\u001b[0m\u001b[0;32m     11\u001b[0m \u001b[1;31m# , Search_5, Search_6, Search_7, Search_8, Search_9,\u001b[0m\u001b[1;33m\u001b[0m\u001b[1;33m\u001b[0m\u001b[1;33m\u001b[0m\u001b[0m\n\u001b[0;32m     12\u001b[0m \u001b[1;31m#     Search_10, Search_11, Search_12, Search_13, Search_14, Search_15]\u001b[0m\u001b[1;33m\u001b[0m\u001b[1;33m\u001b[0m\u001b[1;33m\u001b[0m\u001b[0m\n",
      "\u001b[1;31mNameError\u001b[0m: name 'Search_2' is not defined"
     ]
    }
   ],
   "source": [
    "qs = ['1/2 in. x 10 ft. Electric Metallic Tube (EMT) Conduit', '3/4 in. x 10 ft. Electric Metallic Tube (EMT) Conduit',\n",
    "           '1 in. x 10 ft. Electric Metallic Tube (EMT) Conduit', '1/2 in. emt set-screw connectors (5-pack)', \n",
    "           '3/4 in. emt set-screw connectors (5-pack)']\n",
    "#, '1 in. emt set-screw connectors',\n",
    "#           '1/2 in. emt set-screw coupling (5-pack)', '3/4 in. emt set-screw coupling (5-pack)',\n",
    "#           '1 in. emt set-screw coupling', '500 ft. #4 black stranded cu simpull thhn wire',\n",
    "#           '500 ft. #6 black stranded cu simpull thhn wire', '500 ft. #10 black stranded cu simpull thhn wire',\n",
    "#           '250 ft. 14/2 romex', '250 ft. 14/3 romex', '250 ft. 12/2 romex', '250 ft. 12/3 romex',]\n",
    "\n",
    "Searches = [Search_0, Search_1, Search_2, Search_3, Search_4]\n",
    "# , Search_5, Search_6, Search_7, Search_8, Search_9,\n",
    "#     Search_10, Search_11, Search_12, Search_13, Search_14, Search_15]\n",
    "\n",
    "for Q in qs:\n",
    "    for S in Searches:\n",
    "        searcher(Q, S)"
   ]
  },
  {
   "cell_type": "code",
   "execution_count": 50,
   "id": "0da654d2",
   "metadata": {},
   "outputs": [
    {
     "data": {
      "text/plain": [
       "[7.22,\n",
       " 7.68,\n",
       " 4.73,\n",
       " 5.88,\n",
       " 0.76,\n",
       " 11.91,\n",
       " 12.68,\n",
       " 10.47,\n",
       " 132,\n",
       " 8.36,\n",
       " 1.37,\n",
       " 11.91,\n",
       " 12.68,\n",
       " 10.47,\n",
       " 132,\n",
       " 8.36,\n",
       " 1.37]"
      ]
     },
     "execution_count": 50,
     "metadata": {},
     "output_type": "execute_result"
    }
   ],
   "source": [
    "prices"
   ]
  },
  {
   "cell_type": "code",
   "execution_count": null,
   "id": "31e441e7",
   "metadata": {},
   "outputs": [],
   "source": [
    "#  Trying to Automate but having trouble with API key\n",
    "\n",
    "\n",
    "# price = p['rich_snippet']['top']['detected_extensions']['price']\n",
    "\n",
    "# items = []\n",
    "# links = []\n",
    "# richSnip = []\n",
    "\n",
    "# def querry(querrys):\n",
    "\n",
    "#     params = {\n",
    "#       \"engine\": \"google\",\n",
    "#       \"q\": querrys,\n",
    "#       \"api_key\": homeDepot_API\n",
    "#     }\n",
    "\n",
    "#     search = GoogleSearch(params)\n",
    "#     results = search.get_dict()\n",
    "#     products = results[\"organic_results\"]\n",
    "    \n",
    "#     items.append(products['title'])\n",
    "#     links.append(products['links'])\n",
    "#     richSnip.append(products['rich_snippet'])\n",
    "    \n",
    "#     return\n",
    "\n",
    "#     for p in products[0:5]:\n",
    "#         print(p['title'])\n",
    "#         print(p['link'])\n",
    "#         print(price)\n",
    "#         print('-------------------------------------------')\n",
    "# See code below:"
   ]
  },
  {
   "cell_type": "code",
   "execution_count": null,
   "id": "ffdb4e0e",
   "metadata": {},
   "outputs": [],
   "source": [
    "# querrys = ['1/2 in. x 10 ft. Electric Metallic Tube (EMT) Conduit', '3/4 in. x 10 ft. Electric Metallic Tube (EMT) Conduit',\n",
    "#           '1 in. x 10 ft. Electric Metallic Tube (EMT) Conduit', '1/2 in. emt set-screw connectors (5-pack)', \n",
    "#           '3/4 in. emt set-screw connectors (5-pack)', '1 in. emt set-screw connectors',\n",
    "#           '1/2 in. emt set-screw coupling (5-pack)', '3/4 in. emt set-screw coupling (5-pack)',\n",
    "#           '1 in. emt set-screw coupling', '500 ft. #4 black stranded cu simpull thhn wire',\n",
    "#           '500 ft. #6 black stranded cu simpull thhn wire', '500 ft. #10 black stranded cu simpull thhn wire',\n",
    "#           '250 ft. 14/2 romex', '250 ft. 14/3 romex', '250 ft. 12/2 romex', '250 ft. 12/3 romex',]\n",
    "          \n",
    "# for q in querrys:\n",
    "#     try:\n",
    "#         querry(q)\n",
    "#     except (TypeError):\n",
    "#         print ('Info not found...skipping')"
   ]
  }
 ],
 "metadata": {
  "kernelspec": {
   "display_name": "PythonData",
   "language": "python",
   "name": "pythondata"
  },
  "language_info": {
   "codemirror_mode": {
    "name": "ipython",
    "version": 3
   },
   "file_extension": ".py",
   "mimetype": "text/x-python",
   "name": "python",
   "nbconvert_exporter": "python",
   "pygments_lexer": "ipython3",
   "version": "3.7.13"
  }
 },
 "nbformat": 4,
 "nbformat_minor": 5
}
