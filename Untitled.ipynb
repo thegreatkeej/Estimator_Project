{
 "cells": [
  {
   "cell_type": "code",
   "execution_count": 2,
   "id": "fda75a53",
   "metadata": {},
   "outputs": [
    {
     "name": "stdout",
     "output_type": "stream",
     "text": [
      "Collecting google-search-results\n",
      "  Using cached google_search_results-2.4.1.tar.gz (11 kB)\n",
      "Requirement already satisfied: requests in c:\\users\\kijah\\anaconda3\\envs\\pythondata\\lib\\site-packages (from google-search-results) (2.27.1)\n",
      "Requirement already satisfied: certifi>=2017.4.17 in c:\\users\\kijah\\anaconda3\\envs\\pythondata\\lib\\site-packages (from requests->google-search-results) (2021.10.8)\n",
      "Requirement already satisfied: charset-normalizer~=2.0.0 in c:\\users\\kijah\\anaconda3\\envs\\pythondata\\lib\\site-packages (from requests->google-search-results) (2.0.4)\n",
      "Requirement already satisfied: urllib3<1.27,>=1.21.1 in c:\\users\\kijah\\anaconda3\\envs\\pythondata\\lib\\site-packages (from requests->google-search-results) (1.26.9)\n",
      "Requirement already satisfied: idna<4,>=2.5 in c:\\users\\kijah\\anaconda3\\envs\\pythondata\\lib\\site-packages (from requests->google-search-results) (3.3)\n",
      "Building wheels for collected packages: google-search-results\n",
      "  Building wheel for google-search-results (setup.py): started\n",
      "  Building wheel for google-search-results (setup.py): finished with status 'done'\n",
      "  Created wheel for google-search-results: filename=google_search_results-2.4.1-py3-none-any.whl size=25789 sha256=9ba38c404d7f6fdaaa82050490df17450e8832bb33ec7ef8cb4fc85f9dab0ad2\n",
      "  Stored in directory: c:\\users\\kijah\\appdata\\local\\pip\\cache\\wheels\\82\\a3\\c5\\364155118f298722dff2f79ae4dd7c91e92b433ad36d6f7e0e\n",
      "Successfully built google-search-results\n",
      "Installing collected packages: google-search-results\n",
      "Successfully installed google-search-results-2.4.1\n",
      "Note: you may need to restart the kernel to use updated packages.\n"
     ]
    }
   ],
   "source": [
    "pip install google-search-results"
   ]
  },
  {
   "cell_type": "code",
   "execution_count": 4,
   "id": "34301844",
   "metadata": {},
   "outputs": [
    {
     "name": "stdout",
     "output_type": "stream",
     "text": [
      "https://serpapi.com/search\n",
      "{'search_metadata': {'id': '6333a981797ac60d2cba12bc', 'status': 'Success', 'json_endpoint': 'https://serpapi.com/searches/7fd6212c9cea3d50/6333a981797ac60d2cba12bc.json', 'created_at': '2022-09-28 01:55:13 UTC', 'processed_at': '2022-09-28 01:55:13 UTC', 'home_depot_url': 'https://www.homedepot.com/b/N-5yc1v/Ntt-1%2F2+in.+x+10+ft.+Electric+Metallic+Tube+%28EMT%29+Conduit?Nao=1', 'raw_html_file': 'https://serpapi.com/searches/7fd6212c9cea3d50/6333a981797ac60d2cba12bc.html', 'prettify_html_file': 'https://serpapi.com/searches/7fd6212c9cea3d50/6333a981797ac60d2cba12bc.prettify', 'total_time_taken': 1.78}, 'search_parameters': {'q': '1/2 in. x 10 ft. Electric Metallic Tube (EMT) Conduit', 'nao': '1', 'ps': 24, 'delivery_zip': '04401', 'store_id': '2414', 'engine': 'home_depot'}, 'search_information': {'results_state': 'Results for exact spelling', 'organic_results_state': 'Fully empty'}, 'error': \"Home depot hasn't returned any results for this query.\"}\n"
     ]
    }
   ],
   "source": [
    "from serpapi import GoogleSearch\n",
    "\n",
    "params = {\n",
    "  \"engine\": \"home_depot\",\n",
    "  \"q\": \"1/2 in. x 10 ft. Electric Metallic Tube (EMT) Conduit\",\n",
    "  \"api_key\": \"f872db1126e40fc2ab64b1c06508fb10593545812cfc2cd2804d69a869e3d668\"\n",
    "}\n",
    "\n",
    "search = GoogleSearch(params)\n",
    "results = search.get_dict()\n",
    "# products = results[\"products\"]\n",
    "print(results)"
   ]
  },
  {
   "cell_type": "code",
   "execution_count": null,
   "id": "4f6f3b53",
   "metadata": {},
   "outputs": [],
   "source": []
  },
  {
   "cell_type": "code",
   "execution_count": null,
   "id": "187eb8b1",
   "metadata": {},
   "outputs": [],
   "source": []
  },
  {
   "cell_type": "code",
   "execution_count": null,
   "id": "2cb5e941",
   "metadata": {},
   "outputs": [],
   "source": []
  }
 ],
 "metadata": {
  "kernelspec": {
   "display_name": "PythonData",
   "language": "python",
   "name": "pythondata"
  },
  "language_info": {
   "codemirror_mode": {
    "name": "ipython",
    "version": 3
   },
   "file_extension": ".py",
   "mimetype": "text/x-python",
   "name": "python",
   "nbconvert_exporter": "python",
   "pygments_lexer": "ipython3",
   "version": "3.7.13"
  }
 },
 "nbformat": 4,
 "nbformat_minor": 5
}
