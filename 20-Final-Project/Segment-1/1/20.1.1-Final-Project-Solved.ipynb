{
 "cells": [
  {
   "cell_type": "markdown",
   "metadata": {},
   "source": [
    "**2022-05-09 `20.1.1-Final-Project - GitHub for Teams and Project Collaboration`**"
   ]
  },
  {
   "cell_type": "markdown",
   "metadata": {},
   "source": [
    "**Objectives**\n",
    "* Create a GitHub repository for the project if one has been created.\n",
    "* Add a README.md file to the repository describing the project.\n",
    "* Clone the project repository onto their computer.\n",
    "* Create a feature branch that each team member will use for their code.\n",
    "* Apply best practices for working in groups."
   ]
  },
  {
   "cell_type": "markdown",
   "metadata": {},
   "source": [
    "**Presentation**\n",
    "* [20.1.1-Final-Project - GitHub for Teams and Project Collaboration](https://ucb.bootcampcontent.com/UCB-Coding-Bootcamp/ucb-virt-data-pt-10-2021-u-b/-/blob/master/03-Lesson-Plans/20-Final-Project/Slideshows/Data-M_20.1.1-Final-Project.pdf)"
   ]
  },
  {
   "cell_type": "markdown",
   "metadata": {},
   "source": [
    "#### Working in teams and effective collaboration.\n",
    "\n",
    "* [Being an effective team player](https://www.dummies.com/business/human-resources/employee-engagement/ten-qualities-of-an-effective-team-player/)\n",
    "* [Agile best practices for more effective teams](https://www.planview.com/resources/guide/agile-methodologies-a-beginners-guide/agile-best-practices-effective-teams/)\n",
    "* [Agile practices of effective tech leads](https://medium.com/the-andela-way/agile-practices-of-effective-tech-leads-888c46eb1710)\n",
    "* [Conflict resolution on agile teams](https://adtmag.com/articles/2014/12/17/agile-conflict-resolution.aspx)\n",
    "* [Using a Trello board](https://trello.com/en-US)\n",
    "* [Using a LucidChart](https://www.lucidchart.com/blog/virtual-remote-building-games)\n",
    "* [Scrums for agile workflow](https://www.altexsoft.com/blog/business/25-scrum-process-best-practices-that-set-your-agile-workflow-for-efficiency/)\n",
    "* [Using VS Code for pair programming](https://medium.com/@ibrahimbutt/how-to-set-up-vscode-for-remote-pair-programming-e5f5c30a48e2)\n",
    "* [VS Code Live Share](https://code.visualstudio.com/blogs/2017/11/15/live-share)\n",
    "* [Working on Zoom as a team](https://zoom.us/feature/messaging)\n",
    "* [Git Basics – Branching, Merging and pushing code to Github](https://webtuu.com/blog/04/git-basics-branching-merging-push-to-github)"
   ]
  },
  {
   "cell_type": "markdown",
   "metadata": {},
   "source": [
    "# =========================================="
   ]
  },
  {
   "cell_type": "markdown",
   "metadata": {},
   "source": [
    "### 1.01 Instructor Do: GitHub Practice (0:10)"
   ]
  },
  {
   "cell_type": "markdown",
   "metadata": {},
   "source": [
    "![](Images/02-git_commit_hash.png)"
   ]
  },
  {
   "cell_type": "markdown",
   "metadata": {},
   "source": [
    "```\n",
    "git reset 52c885f\n",
    "```"
   ]
  },
  {
   "cell_type": "markdown",
   "metadata": {},
   "source": [
    "---\n",
    "```bash\n",
    "# Make sure you are in the main branch. \n",
    "git status # If you are in the main branch this command will return, \"On branch main\".\n",
    "\n",
    "# Pull the latest changes from main.\n",
    "git pull\n",
    "\n",
    "# Clean up the main branch on your computer \n",
    "git clean -xdf\n",
    "\n",
    "# Create a new branch \"demographic_analysis\"\n",
    "git checkout -b demographic_analysis  \n",
    "```"
   ]
  },
  {
   "cell_type": "markdown",
   "metadata": {},
   "source": [
    "---\n",
    "```bash\n",
    "git status # This will tell what has been added, deleted or modified. \n",
    "\n",
    "# If you are satisfied with the status of the commit, type.\n",
    "git add . # To add all the content of your commit. \n",
    "\n",
    "# Not necessary but a good practice is to check the status again.\n",
    "git status\n",
    "\n",
    "# Write a required commit message \n",
    "git commit -m \"adding demographic analysis\"\n",
    "\n",
    "# Push the changes to the branch.\n",
    "git push --set-upstream origin <branch-name>\n",
    "```"
   ]
  },
  {
   "cell_type": "markdown",
   "metadata": {},
   "source": [
    "---\n",
    "```bash\n",
    "# Switch back to the main branch\n",
    "git checkout main\n",
    "\n",
    "# Clean up the the repository \n",
    "git clean -xdf\n",
    "```"
   ]
  },
  {
   "cell_type": "markdown",
   "metadata": {},
   "source": [
    "---\n",
    "![](https://camo.githubusercontent.com/c0bac91e661ef44caa921b90bee295daa5193bb4b212713eba4dc1e5b87bfa2a/68747470733a2f2f6769742d73636d2e636f6d2f626f6f6b2f656e2f76322f696d616765732f736e617073686f74732e706e67)"
   ]
  },
  {
   "cell_type": "markdown",
   "metadata": {},
   "source": [
    "# =========================================="
   ]
  },
  {
   "cell_type": "markdown",
   "metadata": {},
   "source": [
    "### 1.02 Everyone Do: Create a Project Repository (0:10)"
   ]
  },
  {
   "cell_type": "markdown",
   "metadata": {},
   "source": [
    "![](Images/03-add-repo.png)"
   ]
  },
  {
   "cell_type": "markdown",
   "metadata": {},
   "source": [
    "---\n",
    "![](Images/03-new-project.png)"
   ]
  },
  {
   "cell_type": "markdown",
   "metadata": {},
   "source": [
    "---\n",
    "![](Images/03-settings.png)"
   ]
  },
  {
   "cell_type": "markdown",
   "metadata": {},
   "source": [
    "---\n",
    "![](Images/03-invite-collaborators.png)"
   ]
  },
  {
   "cell_type": "markdown",
   "metadata": {},
   "source": [
    "---\n",
    "![](Images/03-add-collaborators.png)"
   ]
  },
  {
   "cell_type": "markdown",
   "metadata": {},
   "source": []
  },
  {
   "cell_type": "code",
   "execution_count": null,
   "metadata": {},
   "outputs": [],
   "source": []
  },
  {
   "cell_type": "markdown",
   "metadata": {},
   "source": [
    "# =========================================="
   ]
  },
  {
   "cell_type": "markdown",
   "metadata": {},
   "source": [
    "### 1.03 Everyone Do: Creating Branches (0:10)"
   ]
  },
  {
   "cell_type": "markdown",
   "metadata": {},
   "source": [
    "---\n",
    "```bash\n",
    "# Clone an existing repository.\n",
    "git clone <repo_url>\n",
    "# Navigate into newly created repository directory\n",
    "cd <repo_name>\n",
    "```"
   ]
  },
  {
   "cell_type": "markdown",
   "metadata": {},
   "source": [
    "---\n",
    "```bash\n",
    "# Create a file, called clean_data.py\n",
    "touch clean_data.py\n",
    "\n",
    "# Add and commit clean_data.py...\n",
    "git add clean_data.py\n",
    "git status\n",
    "git commit -m \"First commit.\"\n",
    "\n",
    "# Add cleanup code to clean_data.py...\n",
    "git add clean_data.py\n",
    "git status\n",
    "git commit -m \"Clean up provided data.\"\n",
    "\n",
    "# Add code to export clean data...Note that `add .` adds\n",
    "# everything in the current folder\n",
    "git add .\n",
    "git status\n",
    "git commit -m \"Export clean data as CSV.\"\n",
    "```"
   ]
  },
  {
   "cell_type": "markdown",
   "metadata": {},
   "source": [
    "---\n",
    "```bash\n",
    "# Create new branch and switch to it\n",
    "# Long form: `git checkout --branch data_analytics`\n",
    "git checkout -b data_analytics\n",
    "\n",
    "# Alternatively, we can create a branch and then switch to it in two separate steps, but that approach is uncommon.\n",
    "git branch new_branch_name\n",
    "git checkout new_branch_name\n",
    "```"
   ]
  },
  {
   "cell_type": "markdown",
   "metadata": {},
   "source": [
    "---\n",
    "```bash\n",
    "# Create file to contain data analysis\n",
    "git add analysis.ipynb\n",
    "git status\n",
    "git commit -m \"Add Jupyter Notebook for data analysis.\"\n",
    "\n",
    "# Add notebook cells summarizing data\n",
    "git add analysis.ipynb\n",
    "git status\n",
    "git commit -m \"Adding summary tables to Jupyter Notebook.\"\n",
    "\n",
    "# Export analyzed data and/or plots\n",
    "git add .\n",
    "git commit -m \"Exporting analysis results and save plots as PNG files.\"\n",
    "\n",
    "# Push the changes to GitHub so others can access your work\n",
    "git push --set-upstream origin data_analytics \n",
    "```\n",
    "![](Images/03-git_push_upstream_branch.png)"
   ]
  },
  {
   "cell_type": "markdown",
   "metadata": {},
   "source": [
    "# =========================================="
   ]
  },
  {
   "cell_type": "markdown",
   "metadata": {},
   "source": [
    "### 1.04 Everyone Do: Creating a Pull Request, Reviewing Code, and Merging (0:10)"
   ]
  },
  {
   "cell_type": "markdown",
   "metadata": {},
   "source": [
    "---\n",
    "![](Images/03-compare_pull_request.png)\n",
    "\n",
    "---\n",
    "![](Images/03-comparing_branches.png)"
   ]
  },
  {
   "cell_type": "markdown",
   "metadata": {},
   "source": [
    "---\n",
    "#### Once the code has been approved, the data_analytics branch can be merged into the main branch.\n",
    "```bash\n",
    "# Move back to main\n",
    "git checkout main\n",
    "# Bring in the latest changes.\n",
    "git pull\n",
    "# Checkout the branch.\n",
    "git checkout data_analytics\n",
    "```\n",
    "---\n",
    "```bash\n",
    "# Move back to main\n",
    "git checkout main\n",
    "\n",
    "# Merge changes on data_analysis with code on main\n",
    "git merge data_analytics\n",
    "\n",
    "# Delete the data_analysis branch\n",
    "git branch -d data_analytics\n",
    "```\n",
    "![](Images/03-pull_request_merge.png)"
   ]
  },
  {
   "cell_type": "markdown",
   "metadata": {},
   "source": [
    "# =========================================="
   ]
  },
  {
   "cell_type": "markdown",
   "metadata": {},
   "source": [
    "### 1.05 Instructor Do: Working in Teams (0:10)"
   ]
  },
  {
   "cell_type": "markdown",
   "metadata": {},
   "source": [
    "#### Working in teams and effective collaboration.\n",
    "\n",
    "* [Being an effective team player](https://www.dummies.com/business/human-resources/employee-engagement/ten-qualities-of-an-effective-team-player/)\n",
    "* [Agile best practices for more effective teams](https://www.planview.com/resources/guide/agile-methodologies-a-beginners-guide/agile-best-practices-effective-teams/)\n",
    "* [Agile practices of effective tech leads](https://medium.com/the-andela-way/agile-practices-of-effective-tech-leads-888c46eb1710)\n",
    "* [Conflict resolution on agile teams](https://adtmag.com/articles/2014/12/17/agile-conflict-resolution.aspx)\n",
    "* [Using a Trello board](https://trello.com/en-US)\n",
    "* [Using a LucidChart](https://www.lucidchart.com/blog/virtual-remote-building-games)\n",
    "* [Scrums for agile workflow](https://www.altexsoft.com/blog/business/25-scrum-process-best-practices-that-set-your-agile-workflow-for-efficiency/)\n",
    "* [Using VS Code for pair programming](https://medium.com/@ibrahimbutt/how-to-set-up-vscode-for-remote-pair-programming-e5f5c30a48e2)\n",
    "* [VS Code Live Share](https://code.visualstudio.com/blogs/2017/11/15/live-share)\n",
    "* [Working on Zoom as a team](https://zoom.us/feature/messaging)\n"
   ]
  },
  {
   "cell_type": "markdown",
   "metadata": {},
   "source": [
    "#### GitHub cloning, branching, and merging\n",
    "* [Git Basics – Branching, Merging and pushing code to Github](https://webtuu.com/blog/04/git-basics-branching-merging-push-to-github)"
   ]
  },
  {
   "cell_type": "markdown",
   "metadata": {},
   "source": [
    "#### Deciding on a project topic\n",
    "\n",
    "* Provide the following tips to the teams that may be undecided on a topic. \n",
    "* What motivates the teammates? \n",
    "* Is there a question or problem that you want to answer, and, if so, why? \n",
    "* Find a common ground and be reasonable."
   ]
  },
  {
   "cell_type": "markdown",
   "metadata": {},
   "source": [
    "#### Picking a dataset\n",
    "\n",
    "* Make sure you pick current data. If your team haven't found a dataset, you are free to use data from any source, but we recommend the following curated sources of high-quality data:\n",
    "  * [data.world](https://data.world/)\n",
    "  * [Kaggle](https://www.kaggle.com/)\n",
    "  * [Data.gov](https://www.data.gov)\n",
    "  * [Public APIs](https://github.com/abhishekbanthia/Public-APIs)\n",
    "  * [Awesome-APIs List](https://github.com/Kikobeats/awesome-api)\n",
    "  * [Medium APIs List](https://medium.com/@benjamin_libor/a-curated-collection-of-over-150-apis-to-build-great-products-fdcfa0f361bc)\n",
    "  * [UCI ML Repository](https://archive.ics.uci.edu/ml/index.php)\n",
    "  * [Google's Database search engine](https://datasetsearch.research.google.com/)\n",
    " "
   ]
  },
  {
   "cell_type": "markdown",
   "metadata": {},
   "source": [
    "#### Cleaning, organizing, and performing exploratory data analysis (EDA)\n",
    "\n",
    "* Visit [EDA in Python](https://medium.com/@atanudan/exploratory-data-analysis-eda-in-python-893f963cc0c0) to help your team get started. \n",
    "\n",
    "* All methods and functions you used with Python and Pandas are part of the EDA process."
   ]
  },
  {
   "cell_type": "markdown",
   "metadata": {},
   "source": [
    "#### Setting up a database\n",
    "\n",
    "* Mockup of a model is good enough for this segment, but adding an entity relationship diagram (ERD) will go a long way for the development of the database."
   ]
  },
  {
   "cell_type": "markdown",
   "metadata": {},
   "source": [
    "#### Selecting a machine learning model\n",
    "\n",
    "* ML Models. "
   ]
  },
  {
   "cell_type": "markdown",
   "metadata": {},
   "source": [
    "#### Resolving team conflicts. \n",
    "\n",
    "* Treat your final project like a real life project"
   ]
  },
  {
   "cell_type": "markdown",
   "metadata": {},
   "source": [
    "# =========================================="
   ]
  },
  {
   "cell_type": "markdown",
   "metadata": {},
   "source": [
    "### Rating Class Objectives\n",
    "\n",
    "* rate your understanding using 1-5 method in each objective"
   ]
  },
  {
   "cell_type": "code",
   "execution_count": null,
   "metadata": {},
   "outputs": [],
   "source": [
    "title = \"20.1.1-Final-Project - GitHub for Teams and Project Collaboration\"\n",
    "objectives = [\n",
    "    \"Create a GitHub repository for the project if one has been created\",\n",
    "    \"Add a README.md file to the repository describing the project\",\n",
    "    \"Clone the project repository onto their computer\",\n",
    "    \"Create a feature branch that each team member will use for their code\",\n",
    "    \"Apply best practices for working in groups\",\n",
    "]\n",
    "rating = []\n",
    "total = 0\n",
    "for i in range(len(objectives)):\n",
    "    rate = input(objectives[i]+\"? \")\n",
    "    total += int(rate)\n",
    "    rating.append(objectives[i] + \". (\" + rate + \"/5)\")\n",
    "print(\"=\"*96)\n",
    "print(f\"Self Evaluation for: {title}\")\n",
    "print(\"-\"*24)\n",
    "for i in rating:\n",
    "    print(i)\n",
    "print(\"-\"*64)\n",
    "print(\"Average: \" + str(total/len(objectives)))"
   ]
  },
  {
   "cell_type": "code",
   "execution_count": null,
   "metadata": {},
   "outputs": [],
   "source": []
  },
  {
   "cell_type": "code",
   "execution_count": null,
   "metadata": {},
   "outputs": [],
   "source": []
  }
 ],
 "metadata": {
  "kernelspec": {
   "display_name": "Python 3 (ipykernel)",
   "language": "python",
   "name": "python3"
  },
  "language_info": {
   "codemirror_mode": {
    "name": "ipython",
    "version": 3
   },
   "file_extension": ".py",
   "mimetype": "text/x-python",
   "name": "python",
   "nbconvert_exporter": "python",
   "pygments_lexer": "ipython3",
   "version": "3.8.11"
  }
 },
 "nbformat": 4,
 "nbformat_minor": 4
}
