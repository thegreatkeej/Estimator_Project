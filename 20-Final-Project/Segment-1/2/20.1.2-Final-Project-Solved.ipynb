{
 "cells": [
  {
   "cell_type": "markdown",
   "metadata": {},
   "source": [
    "**2022-06-16 `20.1.2-Final-Project - Project Work`**"
   ]
  },
  {
   "cell_type": "markdown",
   "metadata": {},
   "source": [
    "**Objectives**\n",
    "* Present a project to stakeholders\n",
    "* Design a database using ERD\n",
    "* Design a machine learning model"
   ]
  },
  {
   "cell_type": "markdown",
   "metadata": {},
   "source": [
    "**Presentation**\n",
    "* [20.1.2-Final-Project - Project Work](https://ucb.bootcampcontent.com/UCB-Coding-Bootcamp/UCB-VIRT-DATA-PT-02-2022-U-B/-/blob/main/Live-Sessions/20-Final-Project/Slideshows/Data-M_20.1.2-Final-Project.pdf)"
   ]
  },
  {
   "cell_type": "markdown",
   "metadata": {},
   "source": [
    "#### Working in teams and effective collaboration.\n",
    "\n",
    "* [Being an effective team player](https://www.dummies.com/business/human-resources/employee-engagement/ten-qualities-of-an-effective-team-player/)\n",
    "* [Agile best practices for more effective teams](https://www.planview.com/resources/guide/agile-methodologies-a-beginners-guide/agile-best-practices-effective-teams/)\n",
    "* [Agile practices of effective tech leads](https://medium.com/the-andela-way/agile-practices-of-effective-tech-leads-888c46eb1710)\n",
    "* [Conflict resolution on agile teams](https://adtmag.com/articles/2014/12/17/agile-conflict-resolution.aspx)\n",
    "* [Using a Trello board](https://trello.com/en-US)\n",
    "* [Using a LucidChart](https://www.lucidchart.com/blog/virtual-remote-building-games)\n",
    "* [Scrums for agile workflow](https://www.altexsoft.com/blog/business/25-scrum-process-best-practices-that-set-your-agile-workflow-for-efficiency/)\n",
    "* [Using VS Code for pair programming](https://medium.com/@ibrahimbutt/how-to-set-up-vscode-for-remote-pair-programming-e5f5c30a48e2)\n",
    "* [VS Code Live Share](https://code.visualstudio.com/blogs/2017/11/15/live-share)\n",
    "* [Working on Zoom as a team](https://zoom.us/feature/messaging)\n",
    "* [Git Basics – Branching, Merging and pushing code to Github](https://webtuu.com/blog/04/git-basics-branching-merging-push-to-github)"
   ]
  },
  {
   "cell_type": "markdown",
   "metadata": {},
   "source": [
    "# =========================================="
   ]
  },
  {
   "cell_type": "markdown",
   "metadata": {},
   "source": [
    "### 1.01 Instructor Do: Working in teams and effective collaboration (0:10)"
   ]
  },
  {
   "cell_type": "markdown",
   "metadata": {},
   "source": [
    "#### Working in teams and effective collaboration.\n",
    "\n",
    "* [Being an effective team player](https://www.dummies.com/business/human-resources/employee-engagement/ten-qualities-of-an-effective-team-player/)\n",
    "* [Agile best practices for more effective teams](https://www.planview.com/resources/guide/agile-methodologies-a-beginners-guide/agile-best-practices-effective-teams/)\n",
    "* [Agile practices of effective tech leads](https://medium.com/the-andela-way/agile-practices-of-effective-tech-leads-888c46eb1710)\n",
    "* [Conflict resolution on agile teams](https://adtmag.com/articles/2014/12/17/agile-conflict-resolution.aspx)\n",
    "* [Using a Trello board](https://trello.com/en-US)\n",
    "* [Using a LucidChart](https://www.lucidchart.com/blog/virtual-remote-building-games)\n",
    "* [Scrums for agile workflow](https://www.altexsoft.com/blog/business/25-scrum-process-best-practices-that-set-your-agile-workflow-for-efficiency/)\n",
    "* [Using VS Code for pair programming](https://medium.com/@ibrahimbutt/how-to-set-up-vscode-for-remote-pair-programming-e5f5c30a48e2)\n",
    "* [VS Code Live Share](https://code.visualstudio.com/blogs/2017/11/15/live-share)\n",
    "* [Working on Zoom as a team](https://zoom.us/feature/messaging)\n"
   ]
  },
  {
   "cell_type": "markdown",
   "metadata": {},
   "source": [
    "#### GitHub cloning, branching, and merging\n",
    "* [Git Basics – Branching, Merging and pushing code to Github](https://webtuu.com/blog/04/git-basics-branching-merging-push-to-github)"
   ]
  },
  {
   "cell_type": "markdown",
   "metadata": {},
   "source": [
    "#### Deciding on a project topic\n",
    "\n",
    "* Provide the following tips to the teams that may be undecided on a topic. \n",
    "* What motivates the teammates? \n",
    "* Is there a question or problem that you want to answer, and, if so, why? \n",
    "* Find a common ground and be reasonable."
   ]
  },
  {
   "cell_type": "markdown",
   "metadata": {},
   "source": [
    "#### Picking a dataset\n",
    "\n",
    "* Make sure you pick current data. If your team haven't found a dataset, you are free to use data from any source, but we recommend the following curated sources of high-quality data:\n",
    "  * [data.world](https://data.world/)\n",
    "  * [Kaggle](https://www.kaggle.com/)\n",
    "  * [Data.gov](https://www.data.gov)\n",
    "  * [Public APIs](https://github.com/abhishekbanthia/Public-APIs)\n",
    "  * [Awesome-APIs List](https://github.com/Kikobeats/awesome-api)\n",
    "  * [Medium APIs List](https://medium.com/@benjamin_libor/a-curated-collection-of-over-150-apis-to-build-great-products-fdcfa0f361bc)\n",
    "  * [UCI ML Repository](https://archive.ics.uci.edu/ml/index.php)\n",
    "  * [Google's Database search engine](https://datasetsearch.research.google.com/)\n",
    " "
   ]
  },
  {
   "cell_type": "markdown",
   "metadata": {},
   "source": [
    "#### Cleaning, organizing, and performing exploratory data analysis (EDA)\n",
    "\n",
    "* Visit [EDA in Python](https://medium.com/@atanudan/exploratory-data-analysis-eda-in-python-893f963cc0c0) to help your team get started. \n",
    "\n",
    "* All methods and functions you used with Python and Pandas are part of the EDA process."
   ]
  },
  {
   "cell_type": "markdown",
   "metadata": {},
   "source": [
    "#### Setting up a database\n",
    "\n",
    "* Mockup of a model is good enough for this segment, but adding an entity relationship diagram (ERD) will go a long way for the development of the database."
   ]
  },
  {
   "cell_type": "markdown",
   "metadata": {},
   "source": [
    "#### Selecting a machine learning model\n",
    "\n",
    "* ML Models. "
   ]
  },
  {
   "cell_type": "markdown",
   "metadata": {},
   "source": [
    "#### Resolving team conflicts. \n",
    "\n",
    "* Treat your final project like a real life project"
   ]
  },
  {
   "cell_type": "markdown",
   "metadata": {},
   "source": [
    "# =========================================="
   ]
  },
  {
   "cell_type": "markdown",
   "metadata": {},
   "source": [
    "### Rating Class Objectives\n",
    "\n",
    "* rate your understanding using 1-5 method in each objective"
   ]
  },
  {
   "cell_type": "code",
   "execution_count": null,
   "metadata": {},
   "outputs": [],
   "source": [
    "title = \"20.1.1-Final-Project - GitHub for Teams and Project Collaboration\"\n",
    "objectives = [\n",
    "    \"Create a GitHub repository for the project if one has been created\",\n",
    "    \"Add a README.md file to the repository describing the project\",\n",
    "    \"Clone the project repository onto their computer\",\n",
    "    \"Create a feature branch that each team member will use for their code\",\n",
    "    \"Apply best practices for working in groups\",\n",
    "]\n",
    "rating = []\n",
    "total = 0\n",
    "for i in range(len(objectives)):\n",
    "    rate = input(objectives[i]+\"? \")\n",
    "    total += int(rate)\n",
    "    rating.append(objectives[i] + \". (\" + rate + \"/5)\")\n",
    "print(\"=\"*96)\n",
    "print(f\"Self Evaluation for: {title}\")\n",
    "print(\"-\"*24)\n",
    "for i in rating:\n",
    "    print(i)\n",
    "print(\"-\"*64)\n",
    "print(\"Average: \" + str(total/len(objectives)))"
   ]
  },
  {
   "cell_type": "code",
   "execution_count": null,
   "metadata": {},
   "outputs": [],
   "source": []
  },
  {
   "cell_type": "code",
   "execution_count": null,
   "metadata": {},
   "outputs": [],
   "source": []
  }
 ],
 "metadata": {
  "kernelspec": {
   "display_name": "Python 3 (ipykernel)",
   "language": "python",
   "name": "python3"
  },
  "language_info": {
   "codemirror_mode": {
    "name": "ipython",
    "version": 3
   },
   "file_extension": ".py",
   "mimetype": "text/x-python",
   "name": "python",
   "nbconvert_exporter": "python",
   "pygments_lexer": "ipython3",
   "version": "3.8.11"
  }
 },
 "nbformat": 4,
 "nbformat_minor": 4
}
